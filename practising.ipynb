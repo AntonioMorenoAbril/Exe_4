{
 "cells": [
  {
   "cell_type": "code",
   "execution_count": 3,
   "metadata": {},
   "outputs": [
    {
     "name": "stdout",
     "output_type": "stream",
     "text": [
      "The restul is 29\n"
     ]
    }
   ],
   "source": [
    "def add(number1):\n",
    "    return number1 + 10\n",
    "\n",
    "def substract(number2):\n",
    "    return number2 - 1\n",
    "\n",
    "def operations(number3):\n",
    "    operation1 = add(number3)\n",
    "    operation2 = substract(operation1)\n",
    "    return operation2\n",
    "\n",
    "print(f\"The restul is {operations(20)}\")"
   ]
  },
  {
   "cell_type": "code",
   "execution_count": 5,
   "metadata": {},
   "outputs": [
    {
     "name": "stdout",
     "output_type": "stream",
     "text": [
      "27\n",
      "300\n"
     ]
    }
   ],
   "source": [
    "temperature = 300\n",
    "def kelvinToDegrees (temperature):\n",
    "    temperature = temperature - 273\n",
    "    return temperature \n",
    "\n",
    "print (kelvinToDegrees(temperature)) #Function Space Variable\n",
    "print (temperature) #Global Space Variable"
   ]
  },
  {
   "cell_type": "code",
   "execution_count": 8,
   "metadata": {},
   "outputs": [
    {
     "name": "stdout",
     "output_type": "stream",
     "text": [
      "76.85000000000002\n"
     ]
    }
   ],
   "source": [
    "from functions import kelvins_to_celsius, celsius_to_fahr\n",
    "import functions \n",
    "\n",
    "\n",
    "temp = 350\n",
    "tempCelsius = kelvins_to_celsius(temp)\n",
    "print (tempCelsius)"
   ]
  },
  {
   "cell_type": "code",
   "execution_count": 17,
   "metadata": {},
   "outputs": [
    {
     "name": "stdout",
     "output_type": "stream",
     "text": [
      "572.0\n"
     ]
    }
   ],
   "source": [
    "#Import functions\n",
    "from functions import kelvins_to_celsius, kelvins_to_fahr\n",
    "import functions \n",
    "#Define Temperature Calculator\n",
    "def calcTemp1():\n",
    "    kelvin = int(input(\"The temperature in Kelvin is:\"))\n",
    "    units = str(input (\"Celsius or Degrees\").capitalize())\n",
    "    if units == \"Celsius\":\n",
    "        print(kelvins_to_celsius(kelvin))\n",
    "    if units == \"Fahr\":\n",
    "        print(kelvins_to_fahr(kelvin))\n",
    "    else:\n",
    "        print(\"Incorrect Unit\")\n",
    "calcTemp1()\n",
    "        "
   ]
  },
  {
   "cell_type": "code",
   "execution_count": 27,
   "metadata": {},
   "outputs": [
    {
     "name": "stdout",
     "output_type": "stream",
     "text": [
      "26.850000000000023\n"
     ]
    }
   ],
   "source": [
    "from functions import kelvins_to_celsius, kelvins_to_fahr\n",
    "import functions \n",
    "temp_k = int(input(\"The temperature in Kelvin is:\"))\n",
    "convert_to = str(input (\"C or F\").capitalize())\n",
    "\n",
    "def calcTemp2(temp_k,convert_to):\n",
    " \"\"\"\n",
    "Function for converting temperature in Kelvins to Celsius or Fahrenheit.\n",
    "\n",
    "Parameters\n",
    "----------\n",
    "temp_k: <numerical>x\n",
    "    Temperature in Kelvins\n",
    "convert_to: <str>\n",
    "    Target temperature that can be either Celsius ('C') or Fahrenheit ('F'). Supported values: 'C' | 'F'\n",
    "\n",
    "Returns\n",
    "-------\n",
    "<float>\n",
    "    Converted temperature.\n",
    "\"\"\"\n",
    "if convert_to == \"C\":\n",
    "    print(kelvins_to_celsius(temp_k))\n",
    "elif convert_to == \"F\":\n",
    "    print(kelvins_to_fahr(temp_k))\n",
    "else:\n",
    "    print(\"Incorrect Units\")\n",
    "\n",
    "calcTemp2(temp_k,convert_to)\n",
    "\n",
    "    "
   ]
  },
  {
   "cell_type": "code",
   "execution_count": 28,
   "metadata": {},
   "outputs": [
    {
     "name": "stdout",
     "output_type": "stream",
     "text": [
      "Help on function calcTemp2 in module __main__:\n",
      "\n",
      "calcTemp2(temp_k, convert_to)\n",
      "    Function for converting temperature in Kelvins to Celsius or Fahrenheit.\n",
      "    \n",
      "    Parameters\n",
      "    ----------\n",
      "    temp_k: <numerical>x\n",
      "        Temperature in Kelvins\n",
      "    convert_to: <str>\n",
      "        Target temperature that can be either Celsius ('C') or Fahrenheit ('F'). Supported values: 'C' | 'F'\n",
      "    \n",
      "    Returns\n",
      "    -------\n",
      "    <float>\n",
      "        Converted temperature.\n",
      "\n"
     ]
    }
   ],
   "source": [
    "help(calcTemp2)"
   ]
  },
  {
   "cell_type": "code",
   "execution_count": 34,
   "metadata": {},
   "outputs": [
    {
     "name": "stdout",
     "output_type": "stream",
     "text": [
      "['__doc__', '__loader__', '__name__', '__package__', '__spec__', 'acos', 'acosh', 'asin', 'asinh', 'atan', 'atan2', 'atanh', 'ceil', 'copysign', 'cos', 'cosh', 'degrees', 'e', 'erf', 'erfc', 'exp', 'expm1', 'fabs', 'factorial', 'floor', 'fmod', 'frexp', 'fsum', 'gamma', 'gcd', 'hypot', 'inf', 'isclose', 'isfinite', 'isinf', 'isnan', 'ldexp', 'lgamma', 'log', 'log10', 'log1p', 'log2', 'modf', 'nan', 'pi', 'pow', 'radians', 'remainder', 'sin', 'sinh', 'sqrt', 'tan', 'tanh', 'tau', 'trunc']\n"
     ]
    }
   ],
   "source": [
    "import math \n",
    "print(dir(math))\n"
   ]
  },
  {
   "cell_type": "code",
   "execution_count": 35,
   "metadata": {},
   "outputs": [
    {
     "name": "stdout",
     "output_type": "stream",
     "text": [
      "Help on built-in function sin in module math:\n",
      "\n",
      "sin(x, /)\n",
      "    Return the sine of x (measured in radians).\n",
      "\n"
     ]
    }
   ],
   "source": [
    "help(math.sin)"
   ]
  },
  {
   "cell_type": "code",
   "execution_count": null,
   "metadata": {},
   "outputs": [],
   "source": []
  }
 ],
 "metadata": {
  "kernelspec": {
   "display_name": "Python 3.7.13 ('GEE')",
   "language": "python",
   "name": "python3"
  },
  "language_info": {
   "codemirror_mode": {
    "name": "ipython",
    "version": 3
   },
   "file_extension": ".py",
   "mimetype": "text/x-python",
   "name": "python",
   "nbconvert_exporter": "python",
   "pygments_lexer": "ipython3",
   "version": "3.7.13"
  },
  "orig_nbformat": 4,
  "vscode": {
   "interpreter": {
    "hash": "e06f7db9ba85bc148a76aba8e05984c2abbb0a106e55cb847dc22cd664d21d99"
   }
  }
 },
 "nbformat": 4,
 "nbformat_minor": 2
}
